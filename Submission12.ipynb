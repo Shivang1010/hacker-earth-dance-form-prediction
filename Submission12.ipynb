{
 "cells": [
  {
   "cell_type": "code",
   "execution_count": 1,
   "metadata": {},
   "outputs": [
    {
     "ename": "FileExistsError",
     "evalue": "[WinError 183] Cannot create a file when that file already exists: 'final_train_dir'",
     "output_type": "error",
     "traceback": [
      "\u001b[1;31m---------------------------------------------------------------------------\u001b[0m",
      "\u001b[1;31mFileExistsError\u001b[0m                           Traceback (most recent call last)",
      "\u001b[1;32m<ipython-input-1-5fbbca87e9af>\u001b[0m in \u001b[0;36m<module>\u001b[1;34m\u001b[0m\n\u001b[0;32m     14\u001b[0m \u001b[0my\u001b[0m\u001b[1;33m=\u001b[0m\u001b[0mtrain_csv\u001b[0m\u001b[1;33m[\u001b[0m\u001b[1;34m'target'\u001b[0m\u001b[1;33m]\u001b[0m\u001b[1;33m\u001b[0m\u001b[1;33m\u001b[0m\u001b[0m\n\u001b[0;32m     15\u001b[0m \u001b[1;33m\u001b[0m\u001b[0m\n\u001b[1;32m---> 16\u001b[1;33m \u001b[0mos\u001b[0m\u001b[1;33m.\u001b[0m\u001b[0mmkdir\u001b[0m\u001b[1;33m(\u001b[0m\u001b[1;34m'final_train_dir'\u001b[0m\u001b[1;33m)\u001b[0m\u001b[1;33m\u001b[0m\u001b[1;33m\u001b[0m\u001b[0m\n\u001b[0m\u001b[0;32m     17\u001b[0m \u001b[1;32mfor\u001b[0m \u001b[0mi\u001b[0m \u001b[1;32min\u001b[0m \u001b[0mtrain_csv\u001b[0m\u001b[1;33m[\u001b[0m\u001b[1;34m'target'\u001b[0m\u001b[1;33m]\u001b[0m\u001b[1;33m.\u001b[0m\u001b[0munique\u001b[0m\u001b[1;33m(\u001b[0m\u001b[1;33m)\u001b[0m\u001b[1;33m:\u001b[0m\u001b[1;33m\u001b[0m\u001b[1;33m\u001b[0m\u001b[0m\n\u001b[0;32m     18\u001b[0m     \u001b[0mos\u001b[0m\u001b[1;33m.\u001b[0m\u001b[0mmkdir\u001b[0m\u001b[1;33m(\u001b[0m\u001b[1;34m'final_train_dir\\\\'\u001b[0m\u001b[1;33m+\u001b[0m\u001b[0mi\u001b[0m\u001b[1;33m)\u001b[0m\u001b[1;33m\u001b[0m\u001b[1;33m\u001b[0m\u001b[0m\n",
      "\u001b[1;31mFileExistsError\u001b[0m: [WinError 183] Cannot create a file when that file already exists: 'final_train_dir'"
     ]
    }
   ],
   "source": [
    "import os\n",
    "import pandas as pd\n",
    "from sklearn.model_selection import train_test_split\n",
    "from shutil import copyfile\n",
    "import shutil\n",
    "image_dir = r'D:\\Spyder\\hacker-earth-dance-form-prediction'\n",
    "os.chdir(image_dir)\n",
    "os.listdir(image_dir)\n",
    "\n",
    "train_csv=pd.read_csv(\"train.csv\")\n",
    "train_csv['target'].value_counts()\n",
    "\n",
    "X=train_csv['Image']\n",
    "y=train_csv['target']\n",
    "\n",
    "os.mkdir('final_train_dir')\n",
    "for i in train_csv['target'].unique():\n",
    "    os.mkdir('final_train_dir\\\\'+i)\n",
    "    \n",
    "for i in train_csv['target'].unique():\n",
    "    for j in X[y==i]:\n",
    "        copyfile('train\\\\'+j, 'final_train_dir\\\\'+i+'\\\\'+j)\n",
    "        \n",
    "\n"
   ]
  },
  {
   "cell_type": "code",
   "execution_count": 3,
   "metadata": {},
   "outputs": [
    {
     "name": "stdout",
     "output_type": "stream",
     "text": [
      "Found 364 images belonging to 8 classes.\n",
      "Epoch 1/15\n",
      "12/12 [==============================] - 4s 302ms/step - loss: 2.1719 - accuracy: 0.1511\n",
      "Epoch 2/15\n",
      "12/12 [==============================] - 4s 292ms/step - loss: 2.0515 - accuracy: 0.2005\n",
      "Epoch 3/15\n",
      "12/12 [==============================] - 4s 308ms/step - loss: 1.8959 - accuracy: 0.2582\n",
      "Epoch 4/15\n",
      "12/12 [==============================] - 4s 297ms/step - loss: 1.7952 - accuracy: 0.3214\n",
      "Epoch 5/15\n",
      "12/12 [==============================] - 4s 294ms/step - loss: 1.6240 - accuracy: 0.3984\n",
      "Epoch 6/15\n",
      "12/12 [==============================] - 4s 296ms/step - loss: 1.5515 - accuracy: 0.4505\n",
      "Epoch 7/15\n",
      "12/12 [==============================] - 4s 295ms/step - loss: 1.3954 - accuracy: 0.4808\n",
      "Epoch 8/15\n",
      "12/12 [==============================] - 4s 300ms/step - loss: 1.1708 - accuracy: 0.5907\n",
      "Epoch 9/15\n",
      "12/12 [==============================] - 4s 317ms/step - loss: 1.0131 - accuracy: 0.6703\n",
      "Epoch 10/15\n",
      "12/12 [==============================] - 3s 291ms/step - loss: 0.7980 - accuracy: 0.7308\n",
      "Epoch 11/15\n",
      "12/12 [==============================] - 4s 321ms/step - loss: 0.6626 - accuracy: 0.8022\n",
      "Epoch 12/15\n",
      "12/12 [==============================] - 4s 301ms/step - loss: 0.4851 - accuracy: 0.8489\n",
      "Epoch 13/15\n",
      "12/12 [==============================] - 3s 290ms/step - loss: 0.3399 - accuracy: 0.9258\n",
      "Epoch 14/15\n",
      "12/12 [==============================] - 4s 309ms/step - loss: 0.2953 - accuracy: 0.9258\n",
      "Epoch 15/15\n",
      "12/12 [==============================] - 4s 307ms/step - loss: 0.1948 - accuracy: 0.9615\n"
     ]
    }
   ],
   "source": [
    "from tensorflow.keras.preprocessing.image import ImageDataGenerator\n",
    "import tensorflow as tf\n",
    "\n",
    "final_train_datagen=ImageDataGenerator(rescale=1/255)\n",
    "\n",
    "image_size=50\n",
    "train_generator=final_train_datagen.flow_from_directory(\n",
    "        r\"D:\\Spyder\\hacker-earth-dance-form-prediction\\final_train_dir\",\n",
    "        target_size=(image_size,image_size),\n",
    "#        batch_size=128,\n",
    "        class_mode='sparse'\n",
    "        )\n",
    "\n",
    "\n",
    "\n",
    "\n",
    "\n",
    "model=tf.keras.models.Sequential([\n",
    "        tf.keras.layers.Conv2D(16,(3,3),activation='relu',input_shape=(image_size,image_size,3)),\n",
    "        tf.keras.layers.MaxPooling2D(2,2),\n",
    "        tf.keras.layers.Conv2D(32,(3,3),activation='relu'),\n",
    "        tf.keras.layers.MaxPooling2D(2,2),\n",
    "        tf.keras.layers.Conv2D(64,(3,3),activation='relu'),\n",
    "        tf.keras.layers.MaxPooling2D(2,2),\n",
    "#        tf.keras.layers.Conv2D(64,(3,3),activation='relu'),\n",
    "#        tf.keras.layers.MaxPooling2D(2,2),\n",
    "#        tf.keras.layers.Conv2D(64,(3,3),activation='relu'),\n",
    "#        tf.keras.layers.MaxPooling2D(2,2),\n",
    "        tf.keras.layers.Flatten(),\n",
    "        tf.keras.layers.Dense(512,activation=tf.nn.relu),\n",
    "        tf.keras.layers.Dropout(0.5),\n",
    "        tf.keras.layers.BatchNormalization(),\n",
    "        tf.keras.layers.Dense(512,activation=tf.nn.relu),\n",
    "        tf.keras.layers.Dense(8,activation=tf.nn.softmax)\n",
    "        ])\n",
    "    \n",
    "model.compile(loss='sparse_categorical_crossentropy',optimizer=tf.optimizers.Adam(),metrics=['accuracy'])\n",
    "\n",
    "history=model.fit(train_generator,\n",
    "#                  steps_per_epoch=8,\n",
    "                  epochs=15,\n",
    "                  verbose=1,\n",
    "#                  validation_data=validation_generator,\n",
    "#                  callbacks=[metrics]\n",
    "#                  validation_steps=8\n",
    "                  )\n",
    "\n"
   ]
  },
  {
   "cell_type": "code",
   "execution_count": 4,
   "metadata": {},
   "outputs": [
    {
     "name": "stdout",
     "output_type": "stream",
     "text": [
      "Found 156 images belonging to 1 classes.\n",
      "WARNING:tensorflow:From <ipython-input-4-94f61635123d>:12: Model.predict_generator (from tensorflow.python.keras.engine.training) is deprecated and will be removed in a future version.\n",
      "Instructions for updating:\n",
      "Please use Model.predict, which supports generators.\n",
      "5/5 [==============================] - 1s 161ms/step\n"
     ]
    }
   ],
   "source": [
    "test_datagen=ImageDataGenerator(rescale=1/255)\n",
    "test_generator=test_datagen.flow_from_directory(\n",
    "        r'D:\\Spyder\\hacker-earth-dance-form-prediction\\test',\n",
    "        target_size=(image_size,image_size),\n",
    "#       color_mode=\"rgb\",\n",
    "        batch_size=32,\n",
    "        class_mode=None,\n",
    "        shuffle=False\n",
    "        )\n",
    "\n",
    "import numpy as np\n",
    "pred=model.predict_generator(test_generator,verbose=1)\n",
    "predicted_class_indices=np.argmax(pred,axis=1)\n",
    "\n",
    "labels = (train_generator.class_indices)\n",
    "\n",
    "labels = dict((v,k) for k,v in labels.items())\n",
    "predictions = [labels[k] for k in predicted_class_indices]\n",
    "filenames=test_generator.filenames\n",
    "results=pd.DataFrame({\"Filename\":filenames,\n",
    "                      \"Predictions\":predictions})\n",
    "results[\"Filename\"]=results[\"Filename\"].apply(lambda x:x[7:])\n",
    "\n",
    "test_csv=pd.read_csv(\"test.csv\")\n",
    "\n",
    "results.set_index([\"Filename\"],inplace=True)\n",
    "test_csv.set_index([\"Image\"],inplace=True)\n",
    "\n",
    "output=test_csv.merge(results,left_index=True,right_index=True)\n",
    "output.index.name='Image'\n",
    "output.rename(columns={'Predictions':'target'},inplace=True)\n",
    "output.to_csv('submission12.csv')"
   ]
  },
  {
   "cell_type": "code",
   "execution_count": null,
   "metadata": {},
   "outputs": [],
   "source": []
  }
 ],
 "metadata": {
  "kernelspec": {
   "display_name": "Python 3",
   "language": "python",
   "name": "python3"
  },
  "language_info": {
   "codemirror_mode": {
    "name": "ipython",
    "version": 3
   },
   "file_extension": ".py",
   "mimetype": "text/x-python",
   "name": "python",
   "nbconvert_exporter": "python",
   "pygments_lexer": "ipython3",
   "version": "3.7.6"
  }
 },
 "nbformat": 4,
 "nbformat_minor": 4
}
