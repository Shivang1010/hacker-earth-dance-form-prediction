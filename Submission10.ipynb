{
 "cells": [
  {
   "cell_type": "code",
   "execution_count": 2,
   "metadata": {},
   "outputs": [],
   "source": [
    "import os\n",
    "import pandas as pd\n",
    "from sklearn.model_selection import train_test_split\n",
    "from shutil import copyfile\n",
    "import shutil\n",
    "image_dir = r'D:\\Spyder\\hacker-earth-dance-form-prediction'\n",
    "os.chdir(image_dir)\n",
    "os.listdir(image_dir)\n",
    "\n",
    "train_csv=pd.read_csv(\"train.csv\")\n",
    "train_csv['target'].value_counts()\n",
    "\n",
    "X=train_csv['Image']\n",
    "y=train_csv['target']\n",
    "\n",
    "os.mkdir('final_train_dir')\n",
    "for i in train_csv['target'].unique():\n",
    "    os.mkdir('final_train_dir\\\\'+i)\n",
    "    \n",
    "for i in train_csv['target'].unique():\n",
    "    for j in X[y==i]:\n",
    "        copyfile('train\\\\'+j, 'final_train_dir\\\\'+i+'\\\\'+j)\n",
    "        \n",
    "\n"
   ]
  },
  {
   "cell_type": "code",
   "execution_count": 4,
   "metadata": {},
   "outputs": [
    {
     "name": "stdout",
     "output_type": "stream",
     "text": [
      "Found 364 images belonging to 8 classes.\n",
      "Epoch 1/15\n",
      "12/12 [==============================] - 4s 307ms/step - loss: 2.1582 - accuracy: 0.1401\n",
      "Epoch 2/15\n",
      "12/12 [==============================] - 2s 126ms/step - loss: 1.9574 - accuracy: 0.2637\n",
      "Epoch 3/15\n",
      "12/12 [==============================] - 2s 129ms/step - loss: 1.7135 - accuracy: 0.3791\n",
      "Epoch 4/15\n",
      "12/12 [==============================] - 1s 117ms/step - loss: 1.4600 - accuracy: 0.4835\n",
      "Epoch 5/15\n",
      "12/12 [==============================] - 1s 124ms/step - loss: 1.3512 - accuracy: 0.5467\n",
      "Epoch 6/15\n",
      "12/12 [==============================] - 1s 112ms/step - loss: 1.1138 - accuracy: 0.6154\n",
      "Epoch 7/15\n",
      "12/12 [==============================] - 1s 121ms/step - loss: 0.9032 - accuracy: 0.7363\n",
      "Epoch 8/15\n",
      "12/12 [==============================] - 1s 113ms/step - loss: 0.7234 - accuracy: 0.7940\n",
      "Epoch 9/15\n",
      "12/12 [==============================] - 1s 119ms/step - loss: 0.5064 - accuracy: 0.8599\n",
      "Epoch 10/15\n",
      "12/12 [==============================] - 1s 123ms/step - loss: 0.3945 - accuracy: 0.9231\n",
      "Epoch 11/15\n",
      "12/12 [==============================] - 2s 125ms/step - loss: 0.3054 - accuracy: 0.9396\n",
      "Epoch 12/15\n",
      "12/12 [==============================] - 1s 124ms/step - loss: 0.2074 - accuracy: 0.9588\n",
      "Epoch 13/15\n",
      "12/12 [==============================] - 1s 120ms/step - loss: 0.1878 - accuracy: 0.9615\n",
      "Epoch 14/15\n",
      "12/12 [==============================] - 2s 133ms/step - loss: 0.1244 - accuracy: 0.9725\n",
      "Epoch 15/15\n",
      "12/12 [==============================] - 1s 112ms/step - loss: 0.0947 - accuracy: 0.9863\n",
      "Found 0 images belonging to 0 classes.\n"
     ]
    }
   ],
   "source": [
    "from tensorflow.keras.preprocessing.image import ImageDataGenerator\n",
    "import tensorflow as tf\n",
    "\n",
    "final_train_datagen=ImageDataGenerator(rescale=1/255)\n",
    "\n",
    "image_size=50\n",
    "train_generator=final_train_datagen.flow_from_directory(\n",
    "        r\"D:\\Spyder\\hacker-earth-dance-form-prediction\\final_train_dir\",\n",
    "        target_size=(image_size,image_size),\n",
    "#        batch_size=128,\n",
    "        class_mode='sparse'\n",
    "        )\n",
    "\n",
    "\n",
    "\n",
    "\n",
    "\n",
    "model=tf.keras.models.Sequential([\n",
    "        tf.keras.layers.Conv2D(16,(3,3),activation='relu',input_shape=(image_size,image_size,3)),\n",
    "        tf.keras.layers.MaxPooling2D(2,2),\n",
    "        tf.keras.layers.Conv2D(32,(3,3),activation='relu'),\n",
    "        tf.keras.layers.MaxPooling2D(2,2),\n",
    "        tf.keras.layers.Conv2D(64,(3,3),activation='relu'),\n",
    "        tf.keras.layers.MaxPooling2D(2,2),\n",
    "#        tf.keras.layers.Conv2D(64,(3,3),activation='relu'),\n",
    "#        tf.keras.layers.MaxPooling2D(2,2),\n",
    "#        tf.keras.layers.Conv2D(64,(3,3),activation='relu'),\n",
    "#        tf.keras.layers.MaxPooling2D(2,2),\n",
    "        tf.keras.layers.Flatten(),\n",
    "        tf.keras.layers.Dense(512,activation=tf.nn.relu),\n",
    "        tf.keras.layers.Dropout(0.5),\n",
    "        tf.keras.layers.BatchNormalization(),\n",
    "        tf.keras.layers.Dense(512,activation=tf.nn.relu),\n",
    "        tf.keras.layers.Dense(8,activation=tf.nn.softmax)\n",
    "        ])\n",
    "    \n",
    "model.compile(loss='sparse_categorical_crossentropy',optimizer=tf.optimizers.Adam(),metrics=['accuracy'])\n",
    "\n",
    "history=model.fit(train_generator,\n",
    "#                  steps_per_epoch=8,\n",
    "                  epochs=15,\n",
    "                  verbose=1,\n",
    "#                  validation_data=validation_generator,\n",
    "#                  callbacks=[metrics]\n",
    "#                  validation_steps=8\n",
    "                  )\n",
    "\n",
    "\n",
    "\n"
   ]
  },
  {
   "cell_type": "code",
   "execution_count": 20,
   "metadata": {},
   "outputs": [
    {
     "name": "stdout",
     "output_type": "stream",
     "text": [
      "Found 156 images belonging to 1 classes.\n",
      "5/5 [==============================] - 1s 161ms/step\n"
     ]
    }
   ],
   "source": [
    "test_datagen=ImageDataGenerator(rescale=1/255)\n",
    "test_generator=test_datagen.flow_from_directory(\n",
    "        r'D:\\Spyder\\hacker-earth-dance-form-prediction\\test',\n",
    "        target_size=(image_size,image_size),\n",
    "#       color_mode=\"rgb\",\n",
    "        batch_size=32,\n",
    "        class_mode=None,\n",
    "        shuffle=False\n",
    "        )\n",
    "import numpy as np\n",
    "pred=model.predict_generator(test_generator,verbose=1)\n",
    "predicted_class_indices=np.argmax(pred,axis=1)\n",
    "labels = (train_generator.class_indices)"
   ]
  },
  {
   "cell_type": "code",
   "execution_count": null,
   "metadata": {},
   "outputs": [],
   "source": []
  },
  {
   "cell_type": "code",
   "execution_count": null,
   "metadata": {},
   "outputs": [],
   "source": []
  },
  {
   "cell_type": "code",
   "execution_count": 21,
   "metadata": {},
   "outputs": [],
   "source": [
    "\n",
    "\n",
    "\n",
    "labels = dict((v,k) for k,v in labels.items())\n",
    "predictions = [labels[k] for k in predicted_class_indices]\n",
    "filenames=test_generator.filenames\n",
    "results=pd.DataFrame({\"Filename\":filenames,\n",
    "                      \"Predictions\":predictions})\n"
   ]
  },
  {
   "cell_type": "code",
   "execution_count": 22,
   "metadata": {},
   "outputs": [],
   "source": [
    "results[\"Filename\"]=results[\"Filename\"].apply(lambda x:x[7:])\n",
    "\n",
    "test_csv=pd.read_csv(\"test.csv\")\n",
    "\n",
    "results.set_index([\"Filename\"],inplace=True)\n",
    "test_csv.set_index([\"Image\"],inplace=True)\n",
    "\n",
    "output=test_csv.merge(results,left_index=True,right_index=True)\n",
    "output.index.name='Image'\n",
    "output.rename(columns={'Predictions':'target'},inplace=True)\n",
    "output.to_csv('submission10.csv')"
   ]
  },
  {
   "cell_type": "code",
   "execution_count": null,
   "metadata": {},
   "outputs": [],
   "source": []
  }
 ],
 "metadata": {
  "kernelspec": {
   "display_name": "Python 3",
   "language": "python",
   "name": "python3"
  },
  "language_info": {
   "codemirror_mode": {
    "name": "ipython",
    "version": 3
   },
   "file_extension": ".py",
   "mimetype": "text/x-python",
   "name": "python",
   "nbconvert_exporter": "python",
   "pygments_lexer": "ipython3",
   "version": "3.7.6"
  }
 },
 "nbformat": 4,
 "nbformat_minor": 4
}
